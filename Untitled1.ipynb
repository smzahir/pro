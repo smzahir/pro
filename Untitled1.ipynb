{
  "nbformat": 4,
  "nbformat_minor": 0,
  "metadata": {
    "colab": {
      "name": "Untitled1.ipynb",
      "version": "0.3.2",
      "provenance": [],
      "collapsed_sections": [],
      "include_colab_link": true
    },
    "kernelspec": {
      "name": "python3",
      "display_name": "Python 3"
    }
  },
  "cells": [
    {
      "cell_type": "markdown",
      "metadata": {
        "id": "view-in-github",
        "colab_type": "text"
      },
      "source": [
        "<a href=\"https://colab.research.google.com/github/smzahir/pro/blob/master/Untitled1.ipynb\" target=\"_parent\"><img src=\"https://colab.research.google.com/assets/colab-badge.svg\" alt=\"Open In Colab\"/></a>"
      ]
    },
    {
      "cell_type": "code",
      "metadata": {
        "id": "4jR-ogtRRn1v",
        "colab_type": "code",
        "colab": {}
      },
      "source": [
        "FIBONACCI\n",
        "\n",
        "def fib(n):\n",
        "    a=0\n",
        "    b=1\n",
        "    if n==1:\n",
        "        print(a)\n",
        "    elif n<1:\n",
        "        print('not found')\n",
        "    else:\n",
        "        print(a)\n",
        "        print(b)\n",
        "        for i in range(2,n):\n",
        "            c=a+b\n",
        "            a=b\n",
        "            b=c\n",
        "            print(c)\n",
        "\n",
        "fib(15)"
      ],
      "execution_count": 0,
      "outputs": []
    },
    {
      "cell_type": "code",
      "metadata": {
        "id": "D8PPupesSaOg",
        "colab_type": "code",
        "colab": {}
      },
      "source": [
        "MULTIPLICATION TABLE\n",
        "\n",
        "def mul(n):\n",
        "    for i in range(1,n):\n",
        "        for j in range(1,n):\n",
        "            print(i*j, end=\"\\t\")\n",
        "        print(\"\\n\")\n",
        "\n",
        "\n",
        "mul(12)"
      ],
      "execution_count": 0,
      "outputs": []
    },
    {
      "cell_type": "code",
      "metadata": {
        "id": "l7UyFEiaSh8K",
        "colab_type": "code",
        "colab": {}
      },
      "source": [
        "EVEN NUMBERS BETWEEN 2000 AND 3000\n",
        "\n",
        "def even():\n",
        "\n",
        "    for i in range(1999,3001):\n",
        "        if i%2==0:\n",
        "            print(i)\n",
        "\n",
        "\n",
        "even()\n"
      ],
      "execution_count": 0,
      "outputs": []
    },
    {
      "cell_type": "code",
      "metadata": {
        "id": "MGVy72N9Sq5D",
        "colab_type": "code",
        "colab": {}
      },
      "source": [
        "EVEN OR ODD\n",
        "\n",
        "def num(n):\n",
        "\n",
        "    if n%2==0:\n",
        "        print('even')\n",
        "    else:\n",
        "        print('odd')\n",
        "\n",
        "\n",
        "\n",
        "num(88)\n"
      ],
      "execution_count": 0,
      "outputs": []
    },
    {
      "cell_type": "code",
      "metadata": {
        "id": "uo8H-AHeSwrX",
        "colab_type": "code",
        "colab": {}
      },
      "source": [
        "PRIME NUMBER\n",
        "\n",
        "def prime(n):\n",
        "\n",
        "    for i in range(2,n):\n",
        "        if n%i==0:\n",
        "            print('its not a prime')\n",
        "            break\n",
        "    else:\n",
        "        print('its a prime')\n",
        "\n",
        "prime(13)"
      ],
      "execution_count": 0,
      "outputs": []
    },
    {
      "cell_type": "code",
      "metadata": {
        "id": "oQYOThDhZEDi",
        "colab_type": "code",
        "colab": {}
      },
      "source": [
        "PALINDROME NUMBER\n",
        "\n",
        "def palindrome():\n",
        "\n",
        "    a = input('enter the number')\n",
        "    b = a[::-1]\n",
        "\n",
        "    if a==b:\n",
        "        print('the number is palindrome')\n",
        "    else:\n",
        "        print('not a palindrome')\n",
        "\n",
        "palindrome()"
      ],
      "execution_count": 0,
      "outputs": []
    }
  ]
}